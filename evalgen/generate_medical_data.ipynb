{
 "cells": [
  {
   "cell_type": "code",
   "execution_count": 1,
   "metadata": {},
   "outputs": [],
   "source": [
    "import openai\n",
    "import pandas as pd\n",
    "from typing import List, Dict, Tuple, Literal, Optional\n",
    "from pydantic import BaseModel, Field\n",
    "import weave\n",
    "import instructor\n",
    "from set_env import set_env"
   ]
  },
  {
   "cell_type": "code",
   "execution_count": 2,
   "metadata": {},
   "outputs": [
    {
     "name": "stderr",
     "output_type": "stream",
     "text": [
      "\u001b[32m2024-09-11 10:20:38.626\u001b[0m | \u001b[33m\u001b[1mWARNING \u001b[0m | \u001b[36mset_env.set_env\u001b[0m:\u001b[36mset_env\u001b[0m:\u001b[36m100\u001b[0m - \u001b[33m\u001b[1m\n",
      "        Unable to set WANDB_API_KEY=WANDB_API_KEY,\n",
      "        not in colab or Secrets not set, not kaggle\n",
      "        or Secrets not set, no .env/dotenv/env file\n",
      "        in the current working dir or parent dirs.\u001b[0m\n"
     ]
    },
    {
     "name": "stdout",
     "output_type": "stream",
     "text": [
      "loading envfile='/Users/anishshah/Documents/Manual Library/GitHub(1)/improve-evals/.env' with dotenv_values(envfile)\n"
     ]
    }
   ],
   "source": [
    "set_env(\"OPENAI_API_KEY\")\n",
    "set_env(\"WANDB_API_KEY\")"
   ]
  },
  {
   "cell_type": "code",
   "execution_count": 3,
   "metadata": {},
   "outputs": [
    {
     "name": "stdout",
     "output_type": "stream",
     "text": [
      "Logged in as Weights & Biases user: a-sh0ts.\n",
      "View Weave data at https://wandb.ai/a-sh0ts/medical_data_results/weave\n"
     ]
    },
    {
     "data": {
      "text/plain": [
       "<weave.weave_client.WeaveClient at 0x168ed70b0>"
      ]
     },
     "execution_count": 3,
     "metadata": {},
     "output_type": "execute_result"
    }
   ],
   "source": [
    "weave.init(\"medical_data_results\")"
   ]
  },
  {
   "cell_type": "code",
   "execution_count": 4,
   "metadata": {},
   "outputs": [],
   "source": [
    "N_SAMPLES = 3"
   ]
  },
  {
   "cell_type": "code",
   "execution_count": 5,
   "metadata": {},
   "outputs": [],
   "source": [
    "client = openai.OpenAI()\n",
    "\n",
    "medical_task = \"\"\"\n",
    "You are extracting insights from some medical records.\n",
    "The records contain a medical note and a\n",
    "dialogue between a doctor and a patient. You need\n",
    "to extract values for the following: Chief\n",
    "complaint, History of present illness, Physical\n",
    "examination, symptoms experienced by the patient,\n",
    "New medications prescribed or changed, including\n",
    "dosages (N/A if not provided), and Follow-up\n",
    "instructions (N/A if not provided). Your answer\n",
    "should not include any personal identifiable\n",
    "information (PII) such as name, age, gender, or\n",
    "ID. Use \"the patient\" instead of their name, for\n",
    "example. Return your answer as a bullet list,\n",
    "where each bullet is formatted like •chief\n",
    "complaint: xx. If there is no value for the key,\n",
    "the value should be N/A. Keep your response\n",
    "around 150 words (you may have to summarize some\n",
    "extracted values to stay within the word limit).\n",
    "{transcript}\n",
    "\"\"\"\n",
    "\n",
    "medical_system_prompt = \"\"\"\n",
    "You are a medical data extraction AI assistant. Your task is to accurately extract and summarize key medical information from patient records, adhering strictly to privacy guidelines and formatting instructions provided in the user's prompt. Focus on relevance and conciseness while ensuring all required fields are addressed.\n",
    "\"\"\"\n",
    "\n",
    "medical_dataset_url = \"https://raw.githubusercontent.com/wyim/aci-bench/main/data/challenge_data/train.csv\"\n"
   ]
  },
  {
   "cell_type": "code",
   "execution_count": 6,
   "metadata": {},
   "outputs": [],
   "source": [
    "def load_medical_data(url: str, num_samples: int = N_SAMPLES) -> List[Dict]:\n",
    "    df = pd.read_csv(url)\n",
    "    samples = df.sample(n=num_samples, random_state=42)\n",
    "    return samples.to_dict('records')"
   ]
  },
  {
   "cell_type": "code",
   "execution_count": 7,
   "metadata": {},
   "outputs": [],
   "source": [
    "samples = load_medical_data(medical_dataset_url)"
   ]
  },
  {
   "cell_type": "code",
   "execution_count": 8,
   "metadata": {},
   "outputs": [
    {
     "data": {
      "text/plain": [
       "{'dataset': 'aci',\n",
       " 'encounter_id': 'D2N037',\n",
       " 'dialogue': \"[doctor] hey dylan what's going on so i lift quite a bit of weights i try to stay in shape as much as i can i'm not like normal people i lift heavy weights and my elbow is extremely sore which elbow is it\\n[patient] actually it's both my elbows but my right elbow is hurting me the most\\n[doctor] okay and you said you lift a lot of weights\\n[patient] mm-hmm\\n[doctor] did you play any sports when you were younger\\n[patient] no anything you can think of primarily it was basketball baseball and football\\n[doctor] okay and did your elbows hurt at that time or is this a a new injury\\n[patient] it's new\\n[doctor] when did it start\\n[patient] probably year and a half ago\\n[doctor] okay on both elbows about a year and a half ago\\n[patient] yeah\\n[doctor] okay have you taken anything for the pain\\n[patient] ibuprofen eight hundred milligrams three times a day\\n[doctor] okay and does anything make it better or worse\\n[patient] the more i use my hands or my arms the more it hurts\\n[doctor] okay have you tried icing\\n[patient] yes\\n[doctor] does that give you any relief\\n[patient] no\\n[doctor] alright is it the inside or outside of your elbows\\n[patient] inside\\n[doctor] inside okay let's just do a quick physical exam here i'll take a look at your right elbow first\\n[patient] mm-hmm\\n[doctor] if i bend it this way up does it hurt it's your left does that hurt\\n[patient] yes\\n[doctor] how about this\\n[patient] yes\\n[doctor] okay so pain with both flexion and extension\\n[patient] mm-hmm\\n[doctor] looks like you have little bit of limited range of motion on extension not on flexion though you said it hurts right here on the inside of your elbow\\n[patient] yes\\n[doctor] okay so pain on the medial side with palpation\\n[patient] yes\\n[doctor] alright how about the outside\\n[patient] no\\n[doctor] no pain with palpation outside of the elbow you have do you have normal sensation in your fingers\\n[patient] i think so\\n[doctor] yeah\\n[patient] yeah\\n[doctor] okay great\\n[patient] good to go\\n[doctor] sensation is normal to the touch\\n[patient] yes\\n[doctor] pulses equal in all extremities how about the left elbow same thing if i bend it this way does that hurt\\n[patient] not as much\\n[doctor] how about this way\\n[patient] not as much\\n[doctor] alright so little bit of pain on flexion and extension little bit of limited range of motion on extension of the arm how about if you twist like you're opening a door\\n[patient] yes\\n[doctor] okay so some pain with torsion and twisting supination what about pronation\\n[patient] no\\n[doctor] no pain with pronation on the right side\\n[patient] mm-hmm\\n[doctor] same thing on the left\\n[patient] yes\\n[doctor] pain with supination no pain with pronation\\n[patient] correct\\n[doctor] alright so dylan it took some x-rays coming in looks like you do n't have any any fractures or any bony misalignment which i expect with this kind of injury i do think that what you have is medial epicondylitis which is\\n[patient] is that golfer's elbow\\n[doctor] yes same thing have you been golfing a lot\\n[patient] well not in the past year and a half i've had this for a long time\\n[doctor] okay also known as pictures elbow\\n[patient] well i have n't been pitching either\\n[doctor] hmmm well in any case what i'm gon na have to do is i'm gon na send you up for mri to take another look at this\\n[patient] mm-hmm\\n[doctor] that will be our next step so we'll get you scheduled for the mri probably get you in pretty quick here since we're a private practice\\n[patient] thank god\\n[doctor] yeah and once you get the mri i'll know a little bit more what i'd like to do is something called a whole blood transfusion have you heard of that before\\n[patient] no please tell me remind me\\n[doctor] yeah it should help with the healing of your elbow it's just a procedure we'll stick a needle in your elbow\\n[patient] you do a stick needle in my elbow\\n[doctor] mm-hmm and help with some of the healing of your elbow\\n[patient] so it's kinda like dry needling then\\n[doctor] no\\n[patient] not at all\\n[doctor] what is it\\n[patient] is it is that that thing where like you take the blood out of like say my my thigh\\n[doctor] mm-hmm\\n[patient] and then you literally inject it into my tendon\\n[doctor] yes\\n[patient] that it activates the healing\\n[doctor] yeah that's exactly what it is\\n[patient] interesting cool\\n[doctor] yeah\\n[patient] maybe i have heard about that\\n[doctor] we've we've had some really good responses from other patients on it so hopefully i mean that should be a good solution for you since you've been having issues with this\\n[patient] i'm excited\\n[doctor] yeah and we can hopefully get you scheduled for that in the next couple of weeks it's not not a major procedure and you should heal in the next two weeks so that wo n't be a problem especially considering that you're expecting a newborn soon we want to make sure you're all healed for that\\n[patient] wow i did n't even say that\\n[doctor] i read it in your chart\\n[patient] man you doctors are good\\n[doctor] yeah anything else going on today\\n[patient] just trying to figure out how you're doing\\n[doctor] very good thank you\\n[patient] you're welcome\\n[doctor] nice to see you\\n[patient] you have a good day\",\n",
       " 'note': \"CHIEF COMPLAINT\\n\\nBilateral elbow pain, right worse than left.\\n\\nHISTORY OF PRESENT ILLNESS\\n\\nDylan Bennett is a pleasant 53-year-old male who presents to the clinic today for the evaluation of bilateral elbow pain, right worse than left.\\n\\nThe patient has been experiencing bilateral elbow pain, right worse than left, for approximately 1.5 years. His pain is localized to the medial aspect of his elbows and is described as being extremely sore, worse with increased use of his upper extremities. Of note, he utilizes heavy weights for strength training and was very active in sports when he was younger, primarily playing basketball, baseball, and football, but he denies having any pain at that time. Applying ice to the area has not been helpful, but he does use ibuprofen 800 mg 3 times daily.\\n\\nSOCIAL HISTORY\\n\\nThe patient reports that utilizes heavy weights for strength training. He was also very active in sports when he was younger, primarily playing basketball, baseball, and football.\\n\\nHe is expecting a newborn baby in the near future.\\n\\nMEDICATIONS\\n\\nThe patient reports that he has been taking ibuprofen 800 mg 3 times daily.\\n\\nREVIEW OF SYSTEMS\\n\\nMusculoskeletal: Reports bilateral elbow pain, right worse than left.\\n\\nPHYSICAL EXAM\\n\\nCV: Pulses are equal in all extremities.\\nNEURO: Sensation is normal to light touch distally.\\nMSK: \\nExamination of the right elbow: Limited range of motion with extension with pain. Full range of motion with flexion with pain. Pain to palpation along the medial aspect. No pain to palpation on the lateral aspect of the elbow. Pain with supination. No pain with pronation.\\nExamination of the left elbow: minimal pain with flexion and extension Slight Limited ROM on extension of the arm. Pain with supination. No pain with pronation.\\n\\nRESULTS\\n\\nX-ray images of the bilateral elbows were obtained and review in office today. These reveal no evidence of fracture or bony misalignment.\\n\\nASSESSMENT\\n\\nBilateral medial epicondylitis.\\n\\nPLAN\\n\\nAfter reviewing the patient's examination and radiographic findings today, we had a lengthy discussion in regards to his current symptoms. I want to get an MRI of the bilateral elbows for further evaluation. We discussed the possibility of performing a whole blood transfusion to encourage healing, and the patient is already familiar with this procedure.\"}"
      ]
     },
     "execution_count": 8,
     "metadata": {},
     "output_type": "execute_result"
    }
   ],
   "source": [
    "samples[0]"
   ]
  },
  {
   "cell_type": "code",
   "execution_count": 9,
   "metadata": {},
   "outputs": [],
   "source": [
    "def format_transcript(record):\n",
    "    dialogue = record['dialogue'].replace('\\n', ' ')\n",
    "    note = record['note'].replace('\\n', ' ')\n",
    "    transcript = f\"Dialogue: {dialogue}\\n\\nMedical Note: {note}\"\n",
    "    return transcript\n",
    "\n",
    "@weave.op()\n",
    "def process_medical_record(record: Dict) -> Dict:\n",
    "    transcript = format_transcript(record)\n",
    "    prompt = medical_task.format(transcript=transcript)\n",
    "    \n",
    "    response = client.chat.completions.create(\n",
    "        model=\"gpt-4o\",\n",
    "        messages=[\n",
    "            {\"role\": \"system\", \"content\": medical_system_prompt},\n",
    "            {\"role\": \"user\", \"content\": prompt}\n",
    "        ],\n",
    "    )\n",
    "    \n",
    "    extracted_info = response.choices[0].message.content\n",
    "    \n",
    "    return {\n",
    "        \"input\": transcript,\n",
    "        \"output\": extracted_info,\n",
    "    }\n",
    "\n",
    "@weave.op()\n",
    "def generate_medical_data(num_samples: int = N_SAMPLES) -> List[Dict]:\n",
    "    data = load_medical_data(medical_dataset_url, num_samples)\n",
    "    processed_data = []\n",
    "    \n",
    "    for record in data:\n",
    "        processed_record = process_medical_record(record)\n",
    "        processed_data.append(processed_record)\n",
    "    \n",
    "    return processed_data"
   ]
  },
  {
   "cell_type": "code",
   "execution_count": 10,
   "metadata": {},
   "outputs": [
    {
     "name": "stdout",
     "output_type": "stream",
     "text": [
      "🍩 https://wandb.ai/a-sh0ts/medical_data_results/r/call/0191e175-3379-76a2-9067-72a010f27202\n"
     ]
    }
   ],
   "source": [
    "results = generate_medical_data()"
   ]
  },
  {
   "cell_type": "code",
   "execution_count": 11,
   "metadata": {},
   "outputs": [
    {
     "data": {
      "text/plain": [
       "[{'input': \"Dialogue: [doctor] hey dylan what's going on so i lift quite a bit of weights i try to stay in shape as much as i can i'm not like normal people i lift heavy weights and my elbow is extremely sore which elbow is it [patient] actually it's both my elbows but my right elbow is hurting me the most [doctor] okay and you said you lift a lot of weights [patient] mm-hmm [doctor] did you play any sports when you were younger [patient] no anything you can think of primarily it was basketball baseball and football [doctor] okay and did your elbows hurt at that time or is this a a new injury [patient] it's new [doctor] when did it start [patient] probably year and a half ago [doctor] okay on both elbows about a year and a half ago [patient] yeah [doctor] okay have you taken anything for the pain [patient] ibuprofen eight hundred milligrams three times a day [doctor] okay and does anything make it better or worse [patient] the more i use my hands or my arms the more it hurts [doctor] okay have you tried icing [patient] yes [doctor] does that give you any relief [patient] no [doctor] alright is it the inside or outside of your elbows [patient] inside [doctor] inside okay let's just do a quick physical exam here i'll take a look at your right elbow first [patient] mm-hmm [doctor] if i bend it this way up does it hurt it's your left does that hurt [patient] yes [doctor] how about this [patient] yes [doctor] okay so pain with both flexion and extension [patient] mm-hmm [doctor] looks like you have little bit of limited range of motion on extension not on flexion though you said it hurts right here on the inside of your elbow [patient] yes [doctor] okay so pain on the medial side with palpation [patient] yes [doctor] alright how about the outside [patient] no [doctor] no pain with palpation outside of the elbow you have do you have normal sensation in your fingers [patient] i think so [doctor] yeah [patient] yeah [doctor] okay great [patient] good to go [doctor] sensation is normal to the touch [patient] yes [doctor] pulses equal in all extremities how about the left elbow same thing if i bend it this way does that hurt [patient] not as much [doctor] how about this way [patient] not as much [doctor] alright so little bit of pain on flexion and extension little bit of limited range of motion on extension of the arm how about if you twist like you're opening a door [patient] yes [doctor] okay so some pain with torsion and twisting supination what about pronation [patient] no [doctor] no pain with pronation on the right side [patient] mm-hmm [doctor] same thing on the left [patient] yes [doctor] pain with supination no pain with pronation [patient] correct [doctor] alright so dylan it took some x-rays coming in looks like you do n't have any any fractures or any bony misalignment which i expect with this kind of injury i do think that what you have is medial epicondylitis which is [patient] is that golfer's elbow [doctor] yes same thing have you been golfing a lot [patient] well not in the past year and a half i've had this for a long time [doctor] okay also known as pictures elbow [patient] well i have n't been pitching either [doctor] hmmm well in any case what i'm gon na have to do is i'm gon na send you up for mri to take another look at this [patient] mm-hmm [doctor] that will be our next step so we'll get you scheduled for the mri probably get you in pretty quick here since we're a private practice [patient] thank god [doctor] yeah and once you get the mri i'll know a little bit more what i'd like to do is something called a whole blood transfusion have you heard of that before [patient] no please tell me remind me [doctor] yeah it should help with the healing of your elbow it's just a procedure we'll stick a needle in your elbow [patient] you do a stick needle in my elbow [doctor] mm-hmm and help with some of the healing of your elbow [patient] so it's kinda like dry needling then [doctor] no [patient] not at all [doctor] what is it [patient] is it is that that thing where like you take the blood out of like say my my thigh [doctor] mm-hmm [patient] and then you literally inject it into my tendon [doctor] yes [patient] that it activates the healing [doctor] yeah that's exactly what it is [patient] interesting cool [doctor] yeah [patient] maybe i have heard about that [doctor] we've we've had some really good responses from other patients on it so hopefully i mean that should be a good solution for you since you've been having issues with this [patient] i'm excited [doctor] yeah and we can hopefully get you scheduled for that in the next couple of weeks it's not not a major procedure and you should heal in the next two weeks so that wo n't be a problem especially considering that you're expecting a newborn soon we want to make sure you're all healed for that [patient] wow i did n't even say that [doctor] i read it in your chart [patient] man you doctors are good [doctor] yeah anything else going on today [patient] just trying to figure out how you're doing [doctor] very good thank you [patient] you're welcome [doctor] nice to see you [patient] you have a good day\\n\\nMedical Note: CHIEF COMPLAINT  Bilateral elbow pain, right worse than left.  HISTORY OF PRESENT ILLNESS  Dylan Bennett is a pleasant 53-year-old male who presents to the clinic today for the evaluation of bilateral elbow pain, right worse than left.  The patient has been experiencing bilateral elbow pain, right worse than left, for approximately 1.5 years. His pain is localized to the medial aspect of his elbows and is described as being extremely sore, worse with increased use of his upper extremities. Of note, he utilizes heavy weights for strength training and was very active in sports when he was younger, primarily playing basketball, baseball, and football, but he denies having any pain at that time. Applying ice to the area has not been helpful, but he does use ibuprofen 800 mg 3 times daily.  SOCIAL HISTORY  The patient reports that utilizes heavy weights for strength training. He was also very active in sports when he was younger, primarily playing basketball, baseball, and football.  He is expecting a newborn baby in the near future.  MEDICATIONS  The patient reports that he has been taking ibuprofen 800 mg 3 times daily.  REVIEW OF SYSTEMS  Musculoskeletal: Reports bilateral elbow pain, right worse than left.  PHYSICAL EXAM  CV: Pulses are equal in all extremities. NEURO: Sensation is normal to light touch distally. MSK:  Examination of the right elbow: Limited range of motion with extension with pain. Full range of motion with flexion with pain. Pain to palpation along the medial aspect. No pain to palpation on the lateral aspect of the elbow. Pain with supination. No pain with pronation. Examination of the left elbow: minimal pain with flexion and extension Slight Limited ROM on extension of the arm. Pain with supination. No pain with pronation.  RESULTS  X-ray images of the bilateral elbows were obtained and review in office today. These reveal no evidence of fracture or bony misalignment.  ASSESSMENT  Bilateral medial epicondylitis.  PLAN  After reviewing the patient's examination and radiographic findings today, we had a lengthy discussion in regards to his current symptoms. I want to get an MRI of the bilateral elbows for further evaluation. We discussed the possibility of performing a whole blood transfusion to encourage healing, and the patient is already familiar with this procedure.\",\n",
       "  'output': '• chief complaint: Bilateral elbow pain, right worse than left.\\n• history of present illness: The patient has experienced bilateral elbow pain, right worse than left, for 1.5 years. Pain is localized to the medial aspect of elbows and worsens with heavy weightlifting and upper extremity use. Ibuprofen 800 mg 3 times daily is used for pain management. Ice has been ineffective.\\n• physical examination: \\n  - CV: Pulses are equal in all extremities.\\n  - NEURO: Sensation is normal to light touch distally.\\n  - MSK: Right elbow: Limited ROM with extension with pain, full ROM with flexion with pain, medial pain on palpation, pain with supination, no pain with pronation. Left elbow: Minimal pain with flexion and extension, slight limited ROM on extension, pain with supination, no pain with pronation.\\n• symptoms experienced by the patient: Bilateral elbow pain, worsened with activity, pain localized to medial aspects of elbows, limited ROM.\\n• new medications prescribed or changed, including dosages: N/A\\n• follow-up instructions: MRI of bilateral elbows, consideration for whole blood transfusion for healing.'},\n",
       " {'input': \"Dialogue: [doctor] hello , mrs . peterson . [patient] hi , doctor taylor . good to see you . [doctor] you're here for your hip today , or your- your leg today ? [patient] yes . i hurt my- the- my- top part of my right leg here . [doctor] hey , dragon . i'm seeing mrs . peterson , here , she's a 43-year-old patient . she's here for left leg pain . right leg pain , right leg pain ? [patient] yes . [doctor] um so , what happened to you ? [patient] i was bowling and as i was running up to the lane , i had my bowling ball all the way back , and when i slung it forward , i hit it right into my leg instead of the lane and so then i fell but- yeah- [doctor] did you get a strike ? [patient] no . in fact , i actually dropped the ball and it jumped two lanes over and landed in the other people's gutter . [doctor] terrific , terrific . so , did it swell up on you ? [patient] it- not- did n't seem like it swelled that much . [doctor] what about bruising ? [patient] um , a little bit on the back- back end , that side . [doctor] have- have you been able to walk on it ? [patient] just a little bit . very carefully . [doctor] sore to walk on ? [patient] yes . it's very sore . [doctor] um , and going upstairs or downstairs , does that bother you at all ? [patient] yeah , well , i do n't have stairs , but um , i would avoid that at all costs . [doctor] okay . um , it looks like you had a history of atopic eczema in your past ? [patient] yes . yes , i have eczema . [doctor] okay . and you take uh- uh , fluocinonide for that ? [patient] yes , when it gets really itchy , i'll- i'll use that and it usually takes care of it . [doctor] okay . and , it looks like you have a pre- previous surgical history of a colectomy ? what happened there ? [patient] yes , i had a- um , some diverticulosis and then um , i actually went into diverticulitis and they ended up going in and having to remove a little bit of my colon . [doctor] okay , let me examine you . does it hurt when i push on your leg like that ? [patient] yes , it does . [doctor] okay . if i lift your leg up like this , does that hurt ? [patient] no . [doctor] so , on my exam , you have some significant tenderness to the lateral aspect of your um right upper leg . you do n't seem to have any pain or tenderness with flexion or extension of your um your lower leg . um , are you taking anything for it right now ? [patient] i've been going back and forth between taking ibuprofen and tylenol . [doctor] okay . well , my impression is that you- you probably have a contusion , but let's take a look at your x-ray first . hey , dragon . show me the x-ray . yeah , so if you look at this , this is a normal femur . um , really do n't see any evidence of a fracture or any swelling , so it's essentially , a normal x-ray . so , what we're going to do is , i'm going to start you on um an anti-inflammatory . it's going to be mobic 15 milligrams uh , once a day . i want you to use some ice for the pain , um , and it should , honestly , just being a contusion , get better in the next week or so . if it's not getting better , of course , come on back and- and see me . [patient] okay , sounds good . [doctor] hey , dragon . go ahead and um , pres- do the orders and um , procedures uh , as described . come with me , and uh , i'll get you checked out . dragon , go ahead and finish off the note .\\n\\nMedical Note: CC:  Right leg pain.  HPI:  Ms. Peterson is a 43-year-old female who presents today for an evaluation of right leg pain. She states she was bowling and hit her leg with the ball and fell. She developed mild bruising. She denies swelling. She has been walking very carefully. She is alternating Tylenol and ibuprofen. She has a history of atopic eczema and takes Fluocinonide topical cream for it. She has a history of colectomy following diverticulosis.  EXAM  Examination of the right leg shows significant tenderness to the lateral aspect of the right upper leg. No pain or tenderness with flexion or extension of the lower leg.  RESULTS  X-rays of the right lower extremity is normal, no fractures or dislocations.  IMPRESSION  Right leg contusion.  PLAN  At this point, I discussed the diagnosis and treatment options with the patient. I have recommended Mobic 15 mg once a day. She will use ice for pain. She will follow up as needed. \",\n",
       "  'output': '- Chief complaint: Right leg pain\\n- History of present illness: The patient reports hitting her right leg with a bowling ball and falling while bowling, resulting in mild bruising and soreness on walking.\\n- Physical examination: Significant tenderness to the lateral aspect of the right upper leg. No pain or tenderness with flexion or extension of the lower leg.\\n- Symptoms experienced by the patient: Mild bruising, soreness when walking, significant tenderness in the lateral right upper leg.\\n- New medications prescribed or changed: Prescribed Mobic 15 mg once a day.\\n- Follow-up instructions: Use ice for pain; follow up if the symptoms do not improve within a week.'}]"
      ]
     },
     "execution_count": 11,
     "metadata": {},
     "output_type": "execute_result"
    }
   ],
   "source": [
    "results[0:2]"
   ]
  },
  {
   "cell_type": "code",
   "execution_count": 12,
   "metadata": {},
   "outputs": [],
   "source": [
    "client = instructor.patch(openai.OpenAI())"
   ]
  },
  {
   "cell_type": "code",
   "execution_count": 13,
   "metadata": {},
   "outputs": [],
   "source": [
    "class AnnotationResult(BaseModel):\n",
    "    annotation: Literal[0, 1] = Field(\n",
    "        description=\"Binary score: 1 if the extraction meets all criteria, 0 if it fails on any\"\n",
    "    )\n",
    "    note: str = Field(\n",
    "        description=\"Brief explanation of the annotation decision, highlighting any issues or exemplary aspects\"\n",
    "    )\n",
    "\n",
    "annotation_prompt = \"\"\"\n",
    "    Review the following medical data extraction task results:\n",
    "\n",
    "    Task System Prompt:\n",
    "    {medical_system_prompt}\n",
    "\n",
    "    Task:\n",
    "    {medical_task}\n",
    "\n",
    "    Input:\n",
    "    {input_text}\n",
    "\n",
    "    Output:\n",
    "    {output_text}\n",
    "\n",
    "    Evaluate the extraction based on these criteria:\n",
    "    1. Completeness: All required fields addressed (Chief complaint, History of present illness, Physical examination, Symptoms, New medications with dosages, Follow-up instructions)\n",
    "    2. Accuracy: Information correctly extracted from input\n",
    "    3. Format: Proper bullet list format used (•key: value)\n",
    "    4. Privacy: No personal identifiable information (PII) included\n",
    "    5. Conciseness: ~150 words, key information summarized\n",
    "    6. Use of \"N/A\" for missing information\n",
    "\n",
    "    Provide:\n",
    "    1. Annotation: 1 if the extraction meets all criteria, 0 if it fails on any\n",
    "    2. Note: Brief explanation of your decision, highlighting any issues or exemplary aspects\n",
    "\"\"\"\n",
    "\n",
    "annotation_system_prompt = \"\"\"\n",
    "You are an AI assistant tasked with evaluating medical data extraction results.\n",
    "\"\"\""
   ]
  },
  {
   "cell_type": "code",
   "execution_count": 14,
   "metadata": {},
   "outputs": [],
   "source": [
    "@weave.op()\n",
    "def process_annotation(input_text: str, output_text: str) -> AnnotationResult:\n",
    "    prompt = annotation_prompt.format(medical_system_prompt=medical_system_prompt, medical_task=medical_task, input_text=input_text, output_text=output_text)\n",
    "    \n",
    "    return client.chat.completions.create(\n",
    "        model=\"gpt-4o\",\n",
    "        messages=[\n",
    "            {\"role\": \"system\", \"content\": annotation_system_prompt},\n",
    "            {\"role\": \"user\", \"content\": prompt}\n",
    "        ],\n",
    "        response_model=AnnotationResult\n",
    "    )"
   ]
  },
  {
   "cell_type": "code",
   "execution_count": 15,
   "metadata": {},
   "outputs": [],
   "source": [
    "DataPoint = Tuple[dict, dict, Literal[0, 1], str, Optional[str], Optional[str]]\n",
    "\n",
    "@weave.op()\n",
    "def generate_annotations(results: List[Dict]) -> List[DataPoint]:\n",
    "    annotations = []\n",
    "    \n",
    "    for result in results:\n",
    "        input_text = result[\"input\"]\n",
    "        output_text = result[\"output\"]\n",
    "        annotation_result = process_annotation(input_text, output_text)\n",
    "\n",
    "        combined_task_description = f\"System Prompt: {medical_system_prompt}\\n\\nTask: {medical_task}\"\n",
    "        \n",
    "        data_point: DataPoint = (\n",
    "            {\"input\": input_text},  # input\n",
    "            {\"output\": output_text},  # output\n",
    "            annotation_result.annotation,  # annotation (1 for correct, 0 for incorrect)\n",
    "            annotation_result.note,  # note\n",
    "            combined_task_description,  # human_description_for_task_or_judge\n",
    "            \"word count, presence of the six targeted keys, and absence of PII, with the first two implemented via code- based assertions and the last via an LLM evaluator\"  # human_description_for_metric_details\n",
    "        )\n",
    "        \n",
    "        annotations.append(data_point)\n",
    "    \n",
    "    return annotations"
   ]
  },
  {
   "cell_type": "code",
   "execution_count": 16,
   "metadata": {},
   "outputs": [
    {
     "name": "stdout",
     "output_type": "stream",
     "text": [
      "🍩 https://wandb.ai/a-sh0ts/medical_data_results/r/call/0191e175-6375-70c0-b091-9c4a90970f8d\n"
     ]
    }
   ],
   "source": [
    "annotations = generate_annotations(results)"
   ]
  },
  {
   "cell_type": "code",
   "execution_count": 17,
   "metadata": {},
   "outputs": [
    {
     "data": {
      "text/plain": [
       "({'input': \"Dialogue: [doctor] hey dylan what's going on so i lift quite a bit of weights i try to stay in shape as much as i can i'm not like normal people i lift heavy weights and my elbow is extremely sore which elbow is it [patient] actually it's both my elbows but my right elbow is hurting me the most [doctor] okay and you said you lift a lot of weights [patient] mm-hmm [doctor] did you play any sports when you were younger [patient] no anything you can think of primarily it was basketball baseball and football [doctor] okay and did your elbows hurt at that time or is this a a new injury [patient] it's new [doctor] when did it start [patient] probably year and a half ago [doctor] okay on both elbows about a year and a half ago [patient] yeah [doctor] okay have you taken anything for the pain [patient] ibuprofen eight hundred milligrams three times a day [doctor] okay and does anything make it better or worse [patient] the more i use my hands or my arms the more it hurts [doctor] okay have you tried icing [patient] yes [doctor] does that give you any relief [patient] no [doctor] alright is it the inside or outside of your elbows [patient] inside [doctor] inside okay let's just do a quick physical exam here i'll take a look at your right elbow first [patient] mm-hmm [doctor] if i bend it this way up does it hurt it's your left does that hurt [patient] yes [doctor] how about this [patient] yes [doctor] okay so pain with both flexion and extension [patient] mm-hmm [doctor] looks like you have little bit of limited range of motion on extension not on flexion though you said it hurts right here on the inside of your elbow [patient] yes [doctor] okay so pain on the medial side with palpation [patient] yes [doctor] alright how about the outside [patient] no [doctor] no pain with palpation outside of the elbow you have do you have normal sensation in your fingers [patient] i think so [doctor] yeah [patient] yeah [doctor] okay great [patient] good to go [doctor] sensation is normal to the touch [patient] yes [doctor] pulses equal in all extremities how about the left elbow same thing if i bend it this way does that hurt [patient] not as much [doctor] how about this way [patient] not as much [doctor] alright so little bit of pain on flexion and extension little bit of limited range of motion on extension of the arm how about if you twist like you're opening a door [patient] yes [doctor] okay so some pain with torsion and twisting supination what about pronation [patient] no [doctor] no pain with pronation on the right side [patient] mm-hmm [doctor] same thing on the left [patient] yes [doctor] pain with supination no pain with pronation [patient] correct [doctor] alright so dylan it took some x-rays coming in looks like you do n't have any any fractures or any bony misalignment which i expect with this kind of injury i do think that what you have is medial epicondylitis which is [patient] is that golfer's elbow [doctor] yes same thing have you been golfing a lot [patient] well not in the past year and a half i've had this for a long time [doctor] okay also known as pictures elbow [patient] well i have n't been pitching either [doctor] hmmm well in any case what i'm gon na have to do is i'm gon na send you up for mri to take another look at this [patient] mm-hmm [doctor] that will be our next step so we'll get you scheduled for the mri probably get you in pretty quick here since we're a private practice [patient] thank god [doctor] yeah and once you get the mri i'll know a little bit more what i'd like to do is something called a whole blood transfusion have you heard of that before [patient] no please tell me remind me [doctor] yeah it should help with the healing of your elbow it's just a procedure we'll stick a needle in your elbow [patient] you do a stick needle in my elbow [doctor] mm-hmm and help with some of the healing of your elbow [patient] so it's kinda like dry needling then [doctor] no [patient] not at all [doctor] what is it [patient] is it is that that thing where like you take the blood out of like say my my thigh [doctor] mm-hmm [patient] and then you literally inject it into my tendon [doctor] yes [patient] that it activates the healing [doctor] yeah that's exactly what it is [patient] interesting cool [doctor] yeah [patient] maybe i have heard about that [doctor] we've we've had some really good responses from other patients on it so hopefully i mean that should be a good solution for you since you've been having issues with this [patient] i'm excited [doctor] yeah and we can hopefully get you scheduled for that in the next couple of weeks it's not not a major procedure and you should heal in the next two weeks so that wo n't be a problem especially considering that you're expecting a newborn soon we want to make sure you're all healed for that [patient] wow i did n't even say that [doctor] i read it in your chart [patient] man you doctors are good [doctor] yeah anything else going on today [patient] just trying to figure out how you're doing [doctor] very good thank you [patient] you're welcome [doctor] nice to see you [patient] you have a good day\\n\\nMedical Note: CHIEF COMPLAINT  Bilateral elbow pain, right worse than left.  HISTORY OF PRESENT ILLNESS  Dylan Bennett is a pleasant 53-year-old male who presents to the clinic today for the evaluation of bilateral elbow pain, right worse than left.  The patient has been experiencing bilateral elbow pain, right worse than left, for approximately 1.5 years. His pain is localized to the medial aspect of his elbows and is described as being extremely sore, worse with increased use of his upper extremities. Of note, he utilizes heavy weights for strength training and was very active in sports when he was younger, primarily playing basketball, baseball, and football, but he denies having any pain at that time. Applying ice to the area has not been helpful, but he does use ibuprofen 800 mg 3 times daily.  SOCIAL HISTORY  The patient reports that utilizes heavy weights for strength training. He was also very active in sports when he was younger, primarily playing basketball, baseball, and football.  He is expecting a newborn baby in the near future.  MEDICATIONS  The patient reports that he has been taking ibuprofen 800 mg 3 times daily.  REVIEW OF SYSTEMS  Musculoskeletal: Reports bilateral elbow pain, right worse than left.  PHYSICAL EXAM  CV: Pulses are equal in all extremities. NEURO: Sensation is normal to light touch distally. MSK:  Examination of the right elbow: Limited range of motion with extension with pain. Full range of motion with flexion with pain. Pain to palpation along the medial aspect. No pain to palpation on the lateral aspect of the elbow. Pain with supination. No pain with pronation. Examination of the left elbow: minimal pain with flexion and extension Slight Limited ROM on extension of the arm. Pain with supination. No pain with pronation.  RESULTS  X-ray images of the bilateral elbows were obtained and review in office today. These reveal no evidence of fracture or bony misalignment.  ASSESSMENT  Bilateral medial epicondylitis.  PLAN  After reviewing the patient's examination and radiographic findings today, we had a lengthy discussion in regards to his current symptoms. I want to get an MRI of the bilateral elbows for further evaluation. We discussed the possibility of performing a whole blood transfusion to encourage healing, and the patient is already familiar with this procedure.\"},\n",
       " {'output': '• chief complaint: Bilateral elbow pain, right worse than left.\\n• history of present illness: The patient has experienced bilateral elbow pain, right worse than left, for 1.5 years. Pain is localized to the medial aspect of elbows and worsens with heavy weightlifting and upper extremity use. Ibuprofen 800 mg 3 times daily is used for pain management. Ice has been ineffective.\\n• physical examination: \\n  - CV: Pulses are equal in all extremities.\\n  - NEURO: Sensation is normal to light touch distally.\\n  - MSK: Right elbow: Limited ROM with extension with pain, full ROM with flexion with pain, medial pain on palpation, pain with supination, no pain with pronation. Left elbow: Minimal pain with flexion and extension, slight limited ROM on extension, pain with supination, no pain with pronation.\\n• symptoms experienced by the patient: Bilateral elbow pain, worsened with activity, pain localized to medial aspects of elbows, limited ROM.\\n• new medications prescribed or changed, including dosages: N/A\\n• follow-up instructions: MRI of bilateral elbows, consideration for whole blood transfusion for healing.'},\n",
       " 1,\n",
       " \"The extraction meets all the specified criteria:\\n1. Completeness: All required fields are addressed.\\n2. Accuracy: Information is correctly extracted from the input.\\n3. Format: Proper bullet list format is used (•key: value).\\n4. Privacy: No personal identifiable information (PII) is included.\\n5. Conciseness: The response is concise and summarizes key information.\\n6. 'N/A' is used appropriately for missing information.\",\n",
       " 'System Prompt: \\nYou are a medical data extraction AI assistant. Your task is to accurately extract and summarize key medical information from patient records, adhering strictly to privacy guidelines and formatting instructions provided in the user\\'s prompt. Focus on relevance and conciseness while ensuring all required fields are addressed.\\n\\n\\nTask: \\nYou are extracting insights from some medical records.\\nThe records contain a medical note and a\\ndialogue between a doctor and a patient. You need\\nto extract values for the following: Chief\\ncomplaint, History of present illness, Physical\\nexamination, symptoms experienced by the patient,\\nNew medications prescribed or changed, including\\ndosages (N/A if not provided), and Follow-up\\ninstructions (N/A if not provided). Your answer\\nshould not include any personal identifiable\\ninformation (PII) such as name, age, gender, or\\nID. Use \"the patient\" instead of their name, for\\nexample. Return your answer as a bullet list,\\nwhere each bullet is formatted like •chief\\ncomplaint: xx. If there is no value for the key,\\nthe value should be N/A. Keep your response\\naround 150 words (you may have to summarize some\\nextracted values to stay within the word limit).\\n{transcript}\\n',\n",
       " 'word count, presence of the six targeted keys, and absence of PII, with the first two implemented via code- based assertions and the last via an LLM evaluator')"
      ]
     },
     "execution_count": 17,
     "metadata": {},
     "output_type": "execute_result"
    }
   ],
   "source": [
    "annotations[0]"
   ]
  },
  {
   "cell_type": "code",
   "execution_count": 18,
   "metadata": {},
   "outputs": [
    {
     "name": "stdout",
     "output_type": "stream",
     "text": [
      "📦 Published to https://wandb.ai/a-sh0ts/medical_data_results/weave/objects/medical_data_annotations/versions/4utHXhRnO2oquowlrvJxCztretSxtFavBUHVciMZJBw\n"
     ]
    },
    {
     "data": {
      "text/plain": [
       "ObjectRef(entity='a-sh0ts', project='medical_data_results', name='medical_data_annotations', digest='4utHXhRnO2oquowlrvJxCztretSxtFavBUHVciMZJBw', extra=())"
      ]
     },
     "execution_count": 18,
     "metadata": {},
     "output_type": "execute_result"
    }
   ],
   "source": [
    "weave.publish(annotations, name=\"medical_data_annotations\")"
   ]
  }
 ],
 "metadata": {
  "kernelspec": {
   "display_name": ".venv",
   "language": "python",
   "name": "python3"
  },
  "language_info": {
   "codemirror_mode": {
    "name": "ipython",
    "version": 3
   },
   "file_extension": ".py",
   "mimetype": "text/x-python",
   "name": "python",
   "nbconvert_exporter": "python",
   "pygments_lexer": "ipython3",
   "version": "3.12.4"
  }
 },
 "nbformat": 4,
 "nbformat_minor": 2
}
