{
 "cells": [
  {
   "cell_type": "code",
   "execution_count": 1,
   "metadata": {},
   "outputs": [
    {
     "ename": "ModuleNotFoundError",
     "evalue": "No module named 'pandas'",
     "output_type": "error",
     "traceback": [
      "\u001b[0;31m---------------------------------------------------------------------------\u001b[0m",
      "\u001b[0;31mModuleNotFoundError\u001b[0m                       Traceback (most recent call last)",
      "Cell \u001b[0;32mIn[1], line 2\u001b[0m\n\u001b[1;32m      1\u001b[0m \u001b[38;5;28;01mimport\u001b[39;00m \u001b[38;5;21;01mopenai\u001b[39;00m\n\u001b[0;32m----> 2\u001b[0m \u001b[38;5;28;01mimport\u001b[39;00m \u001b[38;5;21;01mpandas\u001b[39;00m \u001b[38;5;28;01mas\u001b[39;00m \u001b[38;5;21;01mpd\u001b[39;00m\n\u001b[1;32m      3\u001b[0m \u001b[38;5;28;01mfrom\u001b[39;00m \u001b[38;5;21;01mtyping\u001b[39;00m \u001b[38;5;28;01mimport\u001b[39;00m List, Dict\n\u001b[1;32m      4\u001b[0m \u001b[38;5;28;01mfrom\u001b[39;00m \u001b[38;5;21;01mset_env\u001b[39;00m \u001b[38;5;28;01mimport\u001b[39;00m set_env\n",
      "\u001b[0;31mModuleNotFoundError\u001b[0m: No module named 'pandas'"
     ]
    }
   ],
   "source": [
    "import openai\n",
    "import pandas as pd\n",
    "from typing import List, Dict\n",
    "from set_env import set_env\n"
   ]
  },
  {
   "cell_type": "code",
   "execution_count": null,
   "metadata": {},
   "outputs": [],
   "source": [
    "set_env(\"OPENAI_API_KEY\")\n",
    "set_env(\"WANDB_API_KEY\")"
   ]
  },
  {
   "cell_type": "code",
   "execution_count": null,
   "metadata": {},
   "outputs": [],
   "source": [
    "import weave\n",
    "weave.init(\"medical_data_results\")"
   ]
  },
  {
   "cell_type": "code",
   "execution_count": null,
   "metadata": {},
   "outputs": [],
   "source": [
    "client = openai.OpenAI()\n",
    "\n",
    "medical_task = \"\"\"\n",
    "You are extracting insights from some medical records.\n",
    "The records contain a medical note and a\n",
    "dialogue between a doctor and a patient. You need\n",
    "to extract values for the following: Chief\n",
    "complaint, History of present illness, Physical\n",
    "examination, symptoms experienced by the patient,\n",
    "New medications prescribed or changed, including\n",
    "dosages (N/A if not provided), and Follow-up\n",
    "instructions (N/A if not provided). Your answer\n",
    "should not include any personal identifiable\n",
    "information (PII) such as name, age, gender, or\n",
    "ID. Use \"the patient\" instead of their name, for\n",
    "example. Return your answer as a bullet list,\n",
    "where each bullet is formatted like •chief\n",
    "complaint: xx. If there is no value for the key,\n",
    "the value should be N/A. Keep your response\n",
    "around 150 words (you may have to summarize some\n",
    "extracted values to stay within the word limit).\n",
    "{transcript}\n",
    "\"\"\"\n",
    "\n",
    "medical_dataset_url = \"https://raw.githubusercontent.com/wyim/aci-bench/main/data/challenge_data/train.csv\"\n"
   ]
  },
  {
   "cell_type": "code",
   "execution_count": null,
   "metadata": {},
   "outputs": [],
   "source": [
    "def load_medical_data(url: str, num_samples: int = 100) -> List[Dict]:\n",
    "    df = pd.read_csv(url)\n",
    "    samples = df.sample(n=num_samples, random_state=42)\n",
    "    return samples.to_dict('records')\n",
    "\n",
    "@weave.op()\n",
    "def process_medical_record(record: Dict) -> Dict:\n",
    "    prompt = medical_task.format(transcript=record['transcript'])\n",
    "    \n",
    "    response = client.chat.completions.create(\n",
    "        model=\"gpt-3.5-turbo\",\n",
    "        messages=[\n",
    "            {\"role\": \"system\", \"content\": \"You are a medical data extractor.\"},\n",
    "            {\"role\": \"user\", \"content\": prompt}\n",
    "        ],\n",
    "        max_tokens=200\n",
    "    )\n",
    "    \n",
    "    extracted_info = response.choices[0].message.content\n",
    "    \n",
    "    return {\n",
    "        \"input\": record['transcript'],\n",
    "        \"output\": extracted_info,\n",
    "    }\n",
    "\n",
    "def generate_medical_data(num_samples: int = 100) -> List[Dict]:\n",
    "    data = load_medical_data(medical_dataset_url, num_samples)\n",
    "    processed_data = []\n",
    "    \n",
    "    for record in data:\n",
    "        processed_record = process_medical_record(record)\n",
    "        processed_data.append(processed_record)\n",
    "    \n",
    "    return processed_data"
   ]
  },
  {
   "cell_type": "code",
   "execution_count": null,
   "metadata": {},
   "outputs": [],
   "source": [
    "results = generate_medical_data(100)"
   ]
  }
 ],
 "metadata": {
  "kernelspec": {
   "display_name": ".venv",
   "language": "python",
   "name": "python3"
  },
  "language_info": {
   "codemirror_mode": {
    "name": "ipython",
    "version": 3
   },
   "file_extension": ".py",
   "mimetype": "text/x-python",
   "name": "python",
   "nbconvert_exporter": "python",
   "pygments_lexer": "ipython3",
   "version": "3.12.4"
  }
 },
 "nbformat": 4,
 "nbformat_minor": 2
}
