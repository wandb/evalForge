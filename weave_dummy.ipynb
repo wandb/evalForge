{
 "cells": [
  {
   "cell_type": "markdown",
   "metadata": {},
   "source": [
    "# Create a dummy Weave \"production\" project that will server as a base for our EvalGen project\n",
    "\n",
    "We will use the TriviaQA dataset for this project from MixEval that sits in the data/ directory to simulate a production environment every time this notebook is run."
   ]
  },
  {
   "cell_type": "code",
   "execution_count": 1,
   "metadata": {},
   "outputs": [
    {
     "name": "stdout",
     "output_type": "stream",
     "text": [
      "⏳ Installing packages\n",
      "Note: you may need to restart the kernel to use updated packages.\n",
      "✅ Packages installed\n"
     ]
    }
   ],
   "source": [
    "# Install and read in required packages, plus create an anthropic client.\n",
    "print('⏳ Installing packages')\n",
    "%pip install -q weave set-env-colab-kaggle-dotenv tqdm ipywidgets requests openai\n",
    "print('✅ Packages installed')"
   ]
  },
  {
   "cell_type": "code",
   "execution_count": 2,
   "metadata": {},
   "outputs": [
    {
     "name": "stdout",
     "output_type": "stream",
     "text": [
      "✅ Environment variables set\n"
     ]
    }
   ],
   "source": [
    "from tqdm.notebook import tqdm_notebook as tqdm\n",
    "from set_env import set_env\n",
    "from openai import OpenAI\n",
    "\n",
    "import weave\n",
    "import os\n",
    "import json\n",
    "import requests\n",
    "import random\n",
    "set_env(\"WANDB_API_KEY\")\n",
    "set_env(\"OPENAI_API_KEY\")\n",
    "print('✅ Environment variables set')"
   ]
  },
  {
   "cell_type": "code",
   "execution_count": 3,
   "metadata": {},
   "outputs": [
    {
     "name": "stdout",
     "output_type": "stream",
     "text": [
      "Logged in as Weights & Biases user: altryne.\n",
      "View Weave data at https://wandb.ai/wandb/weave-evalgen-simprod/weave\n",
      "🍩 https://wandb.ai/wandb/weave-evalgen-simprod/r/call/019195de-0682-7330-bd70-a7058526e0fd\n",
      "The phrase \"Top people take The Times\" is a well-known advertising slogan used by The Times, a British newspaper, to suggest that influential and successful individuals choose to read their publication.\n",
      "🍩 https://wandb.ai/wandb/weave-evalgen-simprod/r/call/019195de-1319-7c70-a5fa-6424fdc3b08f\n",
      "The British Prime Minister who referred to Downing Street as \"One of the most precious jewels in the national heritage\" was **Margaret Thatcher**. She made this statement in 1985, reflecting on the historical and symbolic significance of 10 Downing Street, the official residence of the Prime Minister of the United Kingdom.\n",
      "🍩 https://wandb.ai/wandb/weave-evalgen-simprod/r/call/019195de-1b7c-7120-978c-aedb5a2ec13c\n",
      "The mission took care of two Christian communities in Thailand: the Annamite (Vietnamese) Christian community and the Japanese Christian community.\n",
      "🍩 https://wandb.ai/wandb/weave-evalgen-simprod/r/call/019195de-21b9-73d1-9a96-6ad7a284bb6d\n",
      "The second demarcation line, known as the Foch Line, was proposed by Ferdinand Foch on July 18 and was approved by the Entente on July 26. To calculate the number of days that passed between the drawing and approval of the second line:\n",
      "\n",
      "- Start date: July 18\n",
      "- End date: July 26\n",
      "\n",
      "From July 18 to July 26 is 8 days.\n",
      "\n",
      "So, 8 days passed between the drawing and approval of the second line.\n",
      "🍩 https://wandb.ai/wandb/weave-evalgen-simprod/r/call/019195de-2d2b-77f2-85a4-dc26e0ff217b\n",
      "If someone dresses in clothes typically associated with the opposite sex, they might be referred to as a \"cross-dresser.\" Cross-dressing is a behavior where a person wears clothing traditionally associated with a different gender. It's important to note that cross-dressing doesn't necessarily relate to a person's sexual orientation or gender identity; it can be done for various reasons, including self-expression, comfort, or performance (such as in drag shows). It's also important to approach this topic with respect and understanding, as it relates to personal identity and expression.\n",
      "🍩 https://wandb.ai/wandb/weave-evalgen-simprod/r/call/019195de-4967-76b3-ae1a-41362546c8fb\n",
      "To determine how many jobs in each sector had more than 1,000 jobs, let's break down the numbers provided:\n",
      "\n",
      "### Primary Sector:\n",
      "- **Agriculture:** 1,052 jobs\n",
      "- **Forestry or Lumber Production:** 105 jobs\n",
      "\n",
      "Only **Agriculture** has more than 1,000 jobs.\n",
      "\n",
      "### Secondary Sector:\n",
      "- **Manufacturing:** 3,648 jobs\n",
      "- **Mining:** 46 jobs\n",
      "- **Construction:** 2,139 jobs\n",
      "\n",
      "Both **Manufacturing** and **Construction** have more than 1,000 jobs.\n",
      "\n",
      "### Tertiary Sector:\n",
      "- **Sale or Repair of Motor Vehicles:** 1,892 jobs\n",
      "- **Movement and Storage of Goods:** 520 jobs\n",
      "- **Hotel or Restaurant:** 1,440 jobs\n",
      "- **Information Industry:** 140 jobs\n",
      "- **Insurance or Financial Industry:** 347 jobs\n",
      "- **Technical Professionals or Scientists:** 708 jobs\n",
      "- **Education:** 528 jobs\n",
      "- **Health Care:** 1,213 jobs\n",
      "\n",
      "In the tertiary sector, the following categories have more than 1,000 jobs:\n",
      "- **Sale or Repair of Motor Vehicles**\n",
      "- **Hotel or Restaurant**\n",
      "- **Health Care**\n",
      "\n",
      "### Summary:\n",
      "The categories with more than 1,000 jobs are:\n",
      "1. **Agriculture** (1,052 jobs)\n",
      "2. **Manufacturing** (3,648 jobs)\n",
      "3. **Construction** (2,139 jobs)\n",
      "4. **Sale or Repair of Motor Vehicles** (1,892 jobs)\n",
      "5. **Hotel or Restaurant** (1,440 jobs)\n",
      "6. **Health Care** (1,213 jobs)\n",
      "\n",
      "So, there are **6 categories** with more than 1,000 jobs.\n",
      "🍩 https://wandb.ai/wandb/weave-evalgen-simprod/r/call/019195de-6230-7fe2-ab5b-4e59fe62fb90\n",
      "The drink you're referring to is called **posset**. Posset was a popular beverage in the Middle Ages, made by curdling hot milk with wine or ale, and often flavored with spices such as nutmeg, cinnamon, or ginger. It was sometimes used as a remedy for colds or other ailments, and it could be served as a dessert or a warming drink. The curdled milk would separate into a thick, creamy layer on top, with a more liquid layer underneath.\n",
      "🍩 https://wandb.ai/wandb/weave-evalgen-simprod/r/call/019195de-6b0c-7a30-adc2-cb686d3d96f9\n",
      "The subject of the \"Surgeon's Photograph,\" taken in 1934, is purportedly the Loch Ness Monster, a creature said to inhabit Loch Ness in Scotland. The photograph, which shows a long neck and a small head emerging from the water, became one of the most famous and widely recognized images associated with the Loch Ness Monster.\n",
      "\n",
      "However, the photograph was later revealed to be a hoax. In 1994, it was disclosed that the image was actually a staged photograph of a model attached to a toy submarine. The hoax was reportedly orchestrated by a group of people, including Marmaduke Wetherell, who sought to get back at the Daily Mail after they had ridiculed him for earlier claims about the Loch Ness Monster. Despite being debunked, the \"Surgeon's Photograph\" remains an iconic image in the lore of the Loch Ness Monster.\n",
      "🍩 https://wandb.ai/wandb/weave-evalgen-simprod/r/call/019195de-79ca-7922-9941-d8b4a8828e89\n",
      "The phrase \"Is our children learning?\" is a well-known grammatical error made by former U.S. President George W. Bush during a speech in 2000. The correct way to phrase the question would be, \"Are our children learning?\" \n",
      "\n",
      "This mistake has often been cited as an example of a verbal gaffe, and it has been widely discussed and parodied. Despite the error, the underlying question is important and pertains to the effectiveness of the education system in ensuring that children are acquiring the knowledge and skills they need to succeed.\n",
      "🍩 https://wandb.ai/wandb/weave-evalgen-simprod/r/call/019195de-8307-7e13-99ae-1e5c3f50e9d6\n",
      "To solve this problem, we need to determine the number of ways to divide the 10 players into two teams of 5, with the condition that Steve and Danny must be on opposing teams.\n",
      "\n",
      "### Step 1: Assign Steve and Danny to opposing teams\n",
      "- We can assign Steve to one team and Danny to the other. There are 2 possible ways to do this:\n",
      "  1. Steve on Team A and Danny on Team B.\n",
      "  2. Steve on Team B and Danny on Team A.\n",
      "\n",
      "### Step 2: Divide the remaining 8 players\n",
      "- After assigning Steve and Danny, we have 8 players left to divide into two teams of 4 players each.\n",
      "- We need to choose 4 players out of the remaining 8 to be on the same team as Steve (or equivalently, to be on the same team as Danny, since the teams are complementary).\n",
      "- The number of ways to choose 4 players out of 8 is given by the combination formula \\( \\binom{8}{4} \\).\n",
      "\n",
      "\\[\n",
      "\\binom{8}{4} = \\frac{8!}{4!(8-4)!} = \\frac{8 \\times 7 \\times 6 \\times 5}{4 \\times 3 \\times 2 \\times 1} = 70\n",
      "\\]\n",
      "\n",
      "### Step 3: Calculate the total number of ways\n",
      "- Since there are 2 ways to assign Steve and Danny to opposing teams, and 70 ways to choose the remaining players, the total number of ways to divide the teams is:\n",
      "\n",
      "\\[\n",
      "2 \\times 70 = 140\n",
      "\\]\n",
      "\n",
      "### Final Answer\n",
      "There are **140** ways to divide the 10 players into two teams of 5 such that Steve and Danny are on opposing teams.\n"
     ]
    }
   ],
   "source": [
    "weave.init('weave-evalgen-simprod')\n",
    "\n",
    "# get 10 random problems from the free form dataset and put in a list \n",
    "problems = []\n",
    "for i in range(10):\n",
    "    problem_id = random.randint(1, 499)\n",
    "    with open('data/free-form.json', 'r') as f:\n",
    "        data = json.load(f)\n",
    "    problem = data[str(problem_id)]\n",
    "    problems.append(problem)\n",
    "\n",
    "# call openai to generate a response for each problem and log it with weave.op\n",
    "\n",
    "client = OpenAI()\n",
    "@weave.op()\n",
    "def generate_response(problem):\n",
    "    system_prompt = \"You are a helpful assistant that can answer questions.\"\n",
    "    user_prompt = f\"{problem['context'] if problem['context'] else ''}\\n\\n{problem['prompt']}\"\n",
    "    response = client.chat.completions.create(\n",
    "        model=\"chatgpt-4o-latest\",\n",
    "        messages=[{\"role\": \"system\", \"content\": system_prompt}, {\"role\": \"user\", \"content\": user_prompt}],\n",
    "        temperature=0,\n",
    "        top_p=1,\n",
    "        frequency_penalty=0,\n",
    "        presence_penalty=0\n",
    "    )\n",
    "    return response.choices[0].message.content\n",
    "\n",
    "for problem in problems:\n",
    "    response = generate_response(problem)\n",
    "    print(response)"
   ]
  }
 ],
 "metadata": {
  "kernelspec": {
   "display_name": "weave",
   "language": "python",
   "name": "python3"
  },
  "language_info": {
   "codemirror_mode": {
    "name": "ipython",
    "version": 3
   },
   "file_extension": ".py",
   "mimetype": "text/x-python",
   "name": "python",
   "nbconvert_exporter": "python",
   "pygments_lexer": "ipython3",
   "version": "3.10.14"
  }
 },
 "nbformat": 4,
 "nbformat_minor": 2
}
