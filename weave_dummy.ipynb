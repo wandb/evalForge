{
 "cells": [
  {
   "cell_type": "markdown",
   "metadata": {},
   "source": [
    "# Create a dummy Weave \"production\" project that will server as a base for our EvalGen project\n",
    "\n",
    "We will use the TriviaQA dataset for this project from MixEval that sits in the data/ directory to simulate a production environment every time this notebook is run."
   ]
  },
  {
   "cell_type": "code",
   "execution_count": 13,
   "metadata": {},
   "outputs": [
    {
     "name": "stdout",
     "output_type": "stream",
     "text": [
      "⏳ Installing packages\n",
      "Note: you may need to restart the kernel to use updated packages.\n",
      "✅ Packages installed\n"
     ]
    }
   ],
   "source": [
    "# Install and read in required packages, plus create an anthropic client.\n",
    "print('⏳ Installing packages')\n",
    "%pip install -q weave set-env-colab-kaggle-dotenv tqdm ipywidgets requests openai\n",
    "print('✅ Packages installed')"
   ]
  },
  {
   "cell_type": "code",
   "execution_count": 14,
   "metadata": {},
   "outputs": [
    {
     "name": "stdout",
     "output_type": "stream",
     "text": [
      "✅ Environment variables set\n"
     ]
    }
   ],
   "source": [
    "from tqdm.notebook import tqdm_notebook as tqdm\n",
    "from set_env import set_env\n",
    "from openai import OpenAI\n",
    "\n",
    "import weave\n",
    "import os\n",
    "import json\n",
    "import requests\n",
    "import random\n",
    "set_env(\"WANDB_API_KEY\")\n",
    "set_env(\"OPENAI_API_KEY\")\n",
    "print('✅ Environment variables set')"
   ]
  },
  {
   "cell_type": "code",
   "execution_count": 15,
   "metadata": {},
   "outputs": [
    {
     "name": "stdout",
     "output_type": "stream",
     "text": [
      "🍩 https://wandb.ai/wandb/weave-evalgen-simprod/r/call/01919053-171f-7492-8c45-f92e9a59f135\n",
      "Let's break it down:\n",
      "\n",
      "- On weekdays (Monday to Friday), John drinks 4 glasses of water each day (breakfast, lunch, dinner, and before bed).\n",
      "  - 4 glasses/day × 5 days = 20 glasses of water during the weekdays.\n",
      "\n",
      "- On weekends (Saturday and Sunday), John drinks 3 glasses of water each day (breakfast, lunch, and before bed, since he has soda with dinner).\n",
      "  - 3 glasses/day × 2 days = 6 glasses of water during the weekends.\n",
      "\n",
      "Now, add the weekday and weekend totals together:\n",
      "\n",
      "- 20 glasses (weekdays) + 6 glasses (weekends) = 26 glasses of water in a week.\n",
      "\n",
      "So, John drinks **26 glasses of water** in a week.\n",
      "🍩 https://wandb.ai/wandb/weave-evalgen-simprod/r/call/01919053-24fc-7ac2-b051-271ce9ff4fd0\n",
      "In *Alice's Adventures in Wonderland* by Lewis Carroll, the balls used in the game of croquet are live hedgehogs. The mallets are live flamingos, and the hoops are soldiers who bend over to form arches. The game is chaotic and unpredictable, much like the rest of Wonderland!\n",
      "🍩 https://wandb.ai/wandb/weave-evalgen-simprod/r/call/01919053-2c77-7693-8574-ad159452ce9d\n",
      "The Foch Line was proposed by Ferdinand Foch on July 18 and was approved by the Entente on July 26. To calculate the number of days it took for the Foch Line to be approved:\n",
      "\n",
      "- Start date: July 18\n",
      "- End date: July 26\n",
      "\n",
      "The number of days between July 18 and July 26 is 8 days. \n",
      "\n",
      "So, it took 8 days for the Foch Line to be approved.\n",
      "🍩 https://wandb.ai/wandb/weave-evalgen-simprod/r/call/01919053-34bb-79e3-8285-5bc4344f1693\n",
      "According to the Canada 2011 Census data you provided, the ethnic group with the least people in Saskatchewan is the Polish people, making up 5.8% of the population.\n",
      "🍩 https://wandb.ai/wandb/weave-evalgen-simprod/r/call/01919053-3b1a-7490-bc0c-25508553518d\n",
      "The world's first birth control clinic was established in **Amsterdam, Netherlands**. It was opened by Dr. Aletta Jacobs in 1882. Dr. Jacobs was a pioneering Dutch physician and women's rights activist, and her clinic provided contraceptive advice and services to women, marking a significant step in the history of reproductive health and women's rights.\n",
      "🍩 https://wandb.ai/wandb/weave-evalgen-simprod/r/call/01919053-4267-7553-a6d6-4e4b07653283\n",
      "According to the Canada 2011 Census data you provided, the ethnic group with the least people in Saskatchewan among the ones listed is the Polish people, making up 5.8% of the population.\n",
      "🍩 https://wandb.ai/wandb/weave-evalgen-simprod/r/call/01919053-4911-7c70-bfbb-f26aaa666592\n",
      "The Foch Line was proposed by Ferdinand Foch on July 18 and was approved by the Entente on July 26. To calculate the number of days it took for the Foch Line to be approved:\n",
      "\n",
      "- Start date: July 18\n",
      "- End date: July 26\n",
      "\n",
      "The number of days between July 18 and July 26 is 8 days. \n",
      "\n",
      "So, it took 8 days for the Foch Line to be approved.\n",
      "🍩 https://wandb.ai/wandb/weave-evalgen-simprod/r/call/01919053-5289-7e03-8e99-00228cc9d6aa\n",
      "Robert Plant, the lead singer of Led Zeppelin, appeared at Glastonbury with his current band, The Sensational Space Shifters. He has been performing with this band since 2012, blending a mix of rock, blues, and world music.\n",
      "🍩 https://wandb.ai/wandb/weave-evalgen-simprod/r/call/01919053-5975-7091-8983-3b27864b24c9\n",
      "The natural effect that is only visible during a total solar eclipse is the **solar corona**. The corona is the outermost layer of the Sun's atmosphere, consisting of a halo of plasma that extends millions of kilometers into space. Normally, the brightness of the Sun's photosphere (the visible surface) overwhelms the corona, making it impossible to see. However, during a total solar eclipse, when the Moon completely covers the Sun, the corona becomes visible as a faint, glowing halo around the darkened Sun. This is a rare and spectacular sight that can only be observed during a total eclipse.\n",
      "🍩 https://wandb.ai/wandb/weave-evalgen-simprod/r/call/01919053-632f-7c00-963e-3df40adf491c\n",
      "The phrase \"Top people take The Times\" is a well-known advertising slogan used by The Times, a British newspaper, to suggest that influential and successful individuals choose to read their publication.\n"
     ]
    }
   ],
   "source": [
    "weave.init('weave-evalgen-simprod')\n",
    "\n",
    "# get 10 random problems from the free form dataset and put in a list \n",
    "problems = []\n",
    "for i in range(10):\n",
    "    problem_id = random.randint(1, 499)\n",
    "    with open('data/free-form.json', 'r') as f:\n",
    "        data = json.load(f)\n",
    "    problem = data[str(problem_id)]\n",
    "    problems.append(problem)\n",
    "\n",
    "# call openai to generate a response for each problem and log it with weave.op\n",
    "\n",
    "client = OpenAI()\n",
    "@weave.op()\n",
    "def generate_response(problem):\n",
    "    system_prompt = \"You are a helpful assistant that can answer questions.\"\n",
    "    user_prompt = f\"{problem['context'] if problem['context'] else ''}\\n\\n{problem['prompt']}\"\n",
    "    response = client.chat.completions.create(\n",
    "        model=\"chatgpt-4o-latest\",\n",
    "        messages=[{\"role\": \"system\", \"content\": system_prompt}, {\"role\": \"user\", \"content\": user_prompt}],\n",
    "        temperature=0,\n",
    "        top_p=1,\n",
    "        frequency_penalty=0,\n",
    "        presence_penalty=0\n",
    "    )\n",
    "    return response.choices[0].message.content\n",
    "\n",
    "for problem in problems:\n",
    "    response = generate_response(problem)\n",
    "    print(response)"
   ]
  },
  {
   "cell_type": "code",
   "execution_count": null,
   "metadata": {},
   "outputs": [],
   "source": []
  }
 ],
 "metadata": {
  "kernelspec": {
   "display_name": "weave",
   "language": "python",
   "name": "python3"
  },
  "language_info": {
   "codemirror_mode": {
    "name": "ipython",
    "version": 3
   },
   "file_extension": ".py",
   "mimetype": "text/x-python",
   "name": "python",
   "nbconvert_exporter": "python",
   "pygments_lexer": "ipython3",
   "version": "3.10.14"
  }
 },
 "nbformat": 4,
 "nbformat_minor": 2
}
