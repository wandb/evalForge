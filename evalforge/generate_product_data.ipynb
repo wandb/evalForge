{
 "cells": [
  {
   "cell_type": "code",
   "execution_count": null,
   "metadata": {},
   "outputs": [],
   "source": [
    "# product_task = \"\"\"\n",
    "# You are an expert copywriter. You need to write an e-\n",
    "# commerce product description based on the product\n",
    "# details and customer reviews. Your description\n",
    "# should be SEO-optimized. It should use an active\n",
    "# voice and include the product's features,\n",
    "# benefits, unique selling points without\n",
    "# overpromising, and a call to action for the buyer\n",
    "# • Benefits describe how product features will\n",
    "# work for the buyer, addressing exactly how the\n",
    "# product will improve their lives. Clearly\n",
    "# distinguish between features (e.g., lightweight,\n",
    "# USB-chargeable) and benefits (e.g., convenience,\n",
    "# nutritious drinks on-the-go). Don't mention\n",
    "# weaknesses of the product or use generic or\n",
    "# repetitive language. Don't make up review text or\n",
    "# quotes. Don't include any links. Don't cite the\n",
    "# reviews too heavily. Divide your description into\n",
    "# readable chunks divided by relevant subheadings.\n",
    "# Keep your description around 200 words, no more\n",
    "# than 300, in Markdown format.\n",
    "# {document}\n",
    "# \"\"\"\n",
    "# product_metric_details = \"\"\"\n",
    "# absence of negative reviews, absence of links, adherence to markdown format, and word count limitation, with only the first criterion requiring LLM implementation\n",
    "# \"\"\"\n",
    "# product_dataset_url = \"\""
   ]
  }
 ],
 "metadata": {
  "language_info": {
   "name": "python"
  }
 },
 "nbformat": 4,
 "nbformat_minor": 2
}
